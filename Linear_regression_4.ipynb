{
  "nbformat": 4,
  "nbformat_minor": 0,
  "metadata": {
    "colab": {
      "provenance": []
    },
    "kernelspec": {
      "name": "python3",
      "display_name": "Python 3"
    },
    "language_info": {
      "name": "python"
    }
  },
  "cells": [
    {
      "cell_type": "code",
      "execution_count": null,
      "metadata": {
        "id": "UQRsTPKWLj_X",
        "outputId": "14126226-f6b2-490b-88b9-b46f58b80190",
        "colab": {
          "base_uri": "https://localhost:8080/"
        }
      },
      "outputs": [
        {
          "output_type": "stream",
          "name": "stdout",
          "text": [
            "RMSE for split 50:50: 17.1529\n",
            "RMSE for split 80:20: 17.1703\n",
            "RMSE for split 90:10: 17.4394\n",
            "RMSE for split 75:25: 16.9691\n"
          ]
        }
      ],
      "source": [
        "import pandas as pd\n",
        "from sklearn.model_selection import train_test_split\n",
        "from sklearn.linear_model import LinearRegression\n",
        "from sklearn.metrics import mean_squared_error\n",
        "import numpy as np\n",
        "\n",
        "# Load the NYC Temperature dataset\n",
        "# For this example, we'll create a synthetic dataset\n",
        "# Replace this with actual data loading\n",
        "data = {\n",
        "    'temperature': np.random.uniform(low=30, high=90, size=1000),\n",
        "    'target': np.random.uniform(low=30, high=90, size=1000)\n",
        "}\n",
        "df = pd.DataFrame(data)\n",
        "\n",
        "# Define features and target\n",
        "X = df[['temperature']]\n",
        "y = df['target']\n",
        "\n",
        "# Define split ratios\n",
        "splits = {\n",
        "    '50:50': 0.5,\n",
        "    '80:20': 0.2,\n",
        "    '90:10': 0.1,\n",
        "    '75:25': 0.25\n",
        "}\n",
        "\n",
        "# Initialize dictionary to store RMSE values\n",
        "rmse_values = {}\n",
        "\n",
        "# Iterate over each split ratio\n",
        "for ratio, test_size in splits.items():\n",
        "    # Split the data\n",
        "    X_train, X_test, y_train, y_test = train_test_split(X, y, test_size=test_size, random_state=42)\n",
        "\n",
        "    # Train a model\n",
        "    model = LinearRegression()\n",
        "    model.fit(X_train, y_train)\n",
        "\n",
        "    # Predict and calculate RMSE\n",
        "    y_pred = model.predict(X_test)\n",
        "    rmse = np.sqrt(mean_squared_error(y_test, y_pred))\n",
        "\n",
        "    # Store the RMSE value\n",
        "    rmse_values[ratio] = rmse\n",
        "\n",
        "# Output RMSE values\n",
        "for ratio, rmse in rmse_values.items():\n",
        "    print(f'RMSE for split {ratio}: {rmse:.4f}')\n",
        "\n"
      ]
    }
  ]
}